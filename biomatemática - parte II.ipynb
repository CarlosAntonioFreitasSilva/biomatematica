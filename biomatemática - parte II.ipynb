{
 "cells": [
  {
   "attachments": {},
   "cell_type": "markdown",
   "metadata": {},
   "source": [
    "# Método contínuos\n",
    "\n",
    "12/06/2023\n",
    "\n",
    "Equação diferencial de primeira ordem\n",
    "$$\\frac{dy}{dt}=f(y) \\qquad \\mathrm{ou} \\qquad \\frac{dy}{dt} = f(t,y)$$\n",
    "\n",
    "## Radiação\n",
    "\n",
    "$$\\frac{dR}{dt}=-\\alpha R $$\n",
    "$$\\Rightarrow \\frac{dR}{R}=-\\alpha dt \\Leftrightarrow \\int\\frac{dR}{R}=-\\alpha \\int dt \\Leftrightarrow ln R = \\alpha t+k \\Rightarrow R(t)=Ae^{-\\alpha}$$\n",
    "\n",
    "## Problema de valor inicial\n",
    "\n",
    "$$\\frac{dN}{dt}=2N-\\mu N$$\n",
    "$$N(0)=N_0$$\n",
    "\n",
    "**Solução:**\n",
    "\n",
    "$$N(t)= Ae^{(2-\\mu)t}$$\n",
    "\n",
    "Como $N(0)=N_0,$ então $$N(t)= N_0e^{(2-\\mu)t}$$\n",
    "\n",
    "**Valor estacionário**\n",
    "\n",
    "Para qual valor de $t$ teremos $$N(t)=2N_0?$$\n",
    "Fazendo $\\alpha = 2-\\mu$ temos que\n",
    "$$2N_0=N_0e^{\\alpha t} \\Rightarrow 2 = e^{\\alpha t} \\Rightarrow \\alpha t = ln 2 \\Rightarrow t= \\frac{ln 2}{\\alpha}.$$\n",
    "\n",
    "Para um equação diferencial linear de primeira ordem homogênea $$\\frac{dy}{dt} = \\lambda y$$ a solução é $$y(t)= y_0e^{\\lambda t}.$$\n",
    "Então se $$\\lambda >0 \\Rightarrow y\\to \\infty$$ $$\\lambda < 0 \\Rightarrow y\\to 0.$$\n",
    "\n",
    "**Exemplo** $$\\frac{dP}{dt}=\\lambda(C)P,$$ onde $\\lambda(C)$ é taxa de crescimento em função da presença de nutrientes (comida). $P(t)$ é a população e $C(t)$ é nutrientes\n",
    "A taxa de variação da comida é inversamente proporcional à variação da população, assim colocamos $$\\frac{dC}{dt}=-\\beta \\frac{dP}{dt}$$ $$ \\Leftrightarrow C(t)-\\tilde{C}=-\\beta P(t)$$ $$C(t)=\\tilde{C}-\\beta P(t)$$\n",
    "\n",
    "Considerando $\\lambda(C)=C(t)$ temos\n",
    "$$\\frac{dP}{dt}=(\\tilde{C}-\\beta P(t))P,$$ \n",
    "\n",
    "$$\\frac{dP}{dt}=\\tilde{C}P\\left(1-\\frac{P}{C/B}\\right)$$\n",
    "\n",
    "Fazendo $\\hat{\\lambda}=\\tilde{C}$ e $K=\\frac{P}{C/B}$ temos o modelo de Verhulst $$\\frac{dP}{dt}=\\hat{\\lambda}P\\left(1-\\frac{P}{K}\\right)$$\n",
    "\n",
    "**Solução**\n",
    "A solução do modelo de Verhulst é obtida por varáveis separáveis. \n",
    "\n",
    "$$\\int \\dfrac{dP}{P\\left(1-\\dfrac{P}{K}\\right)}=\\int \\hat{\\lambda}dt$$\n",
    "Utilizando frações parciais  \n",
    "\n",
    "$$\\dfrac{1}{P\\left(1-\\dfrac{P}{K}\\right)}=\\frac{A}{P}+\\frac{B}{\\left(1-\\dfrac{P}{K}\\right)}$$ \n",
    "\n",
    "obtemos a solução $$P=Me^{\\lambda t}\\left(1-\\frac{P}{K}\\right)$$\n",
    "\n",
    "Como $P(0)=P_0$, então \n",
    "\n",
    "$$P_0=Me^{\\lambda t}\\left(1-\\frac{P}{K}\\right) \\Leftrightarrow M= \\frac{P_0}{1-\\dfrac{P_0}{k}}=\\frac{P_0K}{K-P_0}$$\n",
    "\n",
    "Logo temos a solução\n",
    "\n",
    "$$P(t) = \\frac{KP_0}{P_0+(K-P_0)e^{-\\lambda t}}$$\n",
    "\n",
    "## Malthus\n",
    "No modelo de Malthus temos\n",
    "$$\\dfrac{dP}{dt}=\\lambda P$$\n",
    "considerando $P\\neq 0$ reescrevemos $$\\frac{1}{P}\\frac{dP}{dt}= \\lambda.$$\n",
    "\n",
    "Esboçar os gráficos:\n",
    " - $\\dfrac{1}{P}\\dfrac{dP}{dt}$ em função de $P$ \n",
    " - $\\dfrac{dP}{dt}$ em função de $P$\n",
    " - $P$ em função de $t$\n",
    "\n"
   ]
  },
  {
   "cell_type": "code",
   "execution_count": null,
   "metadata": {},
   "outputs": [],
   "source": [
    "# implementar "
   ]
  },
  {
   "attachments": {},
   "cell_type": "markdown",
   "metadata": {},
   "source": [
    "\n",
    "## Verhulst\n",
    "$$\\dfrac{dP}{dt} = \\lambda P\\left(1-\\dfrac{P}{K}\\right)$$\n",
    "\n",
    "Reescrevemos \n",
    "\n",
    "$$\\frac{1}{P}\\dfrac{dP}{dt} = \\lambda \\left(1-\\dfrac{P}{K}\\right)\\qquad P\\neq 0$$\n",
    "Esboçar os gráficos:\n",
    " - $\\dfrac{1}{P}\\dfrac{dP}{dt}$ em função de $P$ \n",
    " - $\\dfrac{dP}{dt}$ em função de $P$\n",
    " - $P$ em função de $t$\n",
    "\n"
   ]
  },
  {
   "cell_type": "code",
   "execution_count": null,
   "metadata": {},
   "outputs": [],
   "source": [
    "# implementar"
   ]
  },
  {
   "attachments": {},
   "cell_type": "markdown",
   "metadata": {},
   "source": [
    "## Gompertz\n",
    "\n",
    "$$\\dfrac{dP}{dt} = \\lambda P \\ln\\left(\\dfrac{P}{K}\\right)$$\n",
    "\n",
    "Reescrevemos \n",
    "\n",
    "$$\\dfrac{1}{P}\\dfrac{dP}{dt} = \\lambda \\ln\\left(\\dfrac{P}{K}\\right)\\qquad P\\neq 0$$\n",
    "Esboçar os gráficos:\n",
    " - $\\dfrac{1}{P}\\dfrac{dP}{dt}$ em função de $P$ \n",
    " - $\\dfrac{dP}{dt}$ em função de $P$\n",
    " - $P$ em função de $t$\n"
   ]
  },
  {
   "cell_type": "code",
   "execution_count": null,
   "metadata": {},
   "outputs": [],
   "source": [
    "# implementar"
   ]
  },
  {
   "attachments": {},
   "cell_type": "markdown",
   "metadata": {},
   "source": [
    "## Limiar\n",
    "No modelo de Limiar é considerado a quantidade mínima $L$ da população para a sobrevivência de espécie\n",
    "\n",
    "$$\\dfrac{dP}{dt} = \\lambda P\\left(1-\\dfrac{P}{K}\\right)\\left(\\dfrac{P}{L}-1\\right)$$\n",
    "\n",
    "Reescrevemos \n",
    "\n",
    "$$\\frac{1}{P}\\dfrac{dP}{dt} = \\lambda P\\left(1-\\dfrac{P}{K}\\right)\\left(\\dfrac{P}{L}-1\\right)\\qquad P\\neq 0$$\n",
    "\n",
    "Esboçar os gráficos:\n",
    " - $\\dfrac{1}{P}\\dfrac{dP}{dt}$ em função de $P$ \n",
    " - $\\dfrac{dP}{dt}$ em função de $P$\n",
    " - $P$ em função de $t$"
   ]
  },
  {
   "cell_type": "code",
   "execution_count": null,
   "metadata": {},
   "outputs": [],
   "source": [
    "# implementar"
   ]
  },
  {
   "attachments": {},
   "cell_type": "markdown",
   "metadata": {},
   "source": [
    "## Malthus com pesca proporcional\n",
    "\n",
    "Nesse modelo é considerado o parâmetro $f$ que representa o de esforço de pesca.\n",
    "\n",
    "$$\\dfrac{dP}{dt} = \\lambda P- fP = (\\lambda - f)P \\qquad \\lambda>f$$\n",
    "\n",
    "### Malthus com pesca fixa\n",
    "\n",
    "$$\\dfrac{dP}{dt} = \\lambda P - E$$\n",
    "Reescrevemos\n",
    "$$\\dfrac{1}{P}\\frac{dP}{dt} = \\lambda - \\frac{E}{P}, \\qquad P\\neq0$$\n",
    "\n",
    "Esboçar os gráficos:\n",
    " - $\\dfrac{1}{P}\\frac{dP}{dt}$ em função de $P$ \n",
    " - $\\dfrac{dP}{dt}$ em função de $P$\n",
    " - $P$ em função de $t$"
   ]
  },
  {
   "cell_type": "code",
   "execution_count": null,
   "metadata": {},
   "outputs": [],
   "source": [
    "# implementar"
   ]
  },
  {
   "attachments": {},
   "cell_type": "markdown",
   "metadata": {},
   "source": [
    "# Sistema de EDO de primeira ordem \n",
    "\n",
    "13/06/2023\n",
    "\n",
    "$$\\dfrac{dP}{dt} = \\lambda_pP-\\mu_pP$$\n",
    "$$\\dfrac{dQ}{dt} = \\lambda_qQ-\\mu_qQ$$\n",
    "\n",
    "onde $\\lambda_i$ e $\\mu_i$ indicam a taxa de reprodução e mortalidade da espécie I, respectivamente.\n",
    "\n",
    "## Lotka-Volterra com predador especialista exclusivo\n",
    "\n",
    "Considere um sistema com duas espécies $P$(presa) e $Q$(predador) com predador especialista exclusivo. Nesse modelo consideramos a taxa de reprodução do predador em função da presença de presa, isto é,$$\\lambda_q = g P$$ e a taxa de mortalidade da presa e proporcional à quantidade de presas, ou seja, $$\\mu_p = b Q$$ \n",
    "Assim, temos \n",
    "$$\\dfrac{dP}{dt} = \\lambda_pP-bQP$$\n",
    "$$\\dfrac{dQ}{dt} = gPQ-\\mu_qQ$$\n",
    "\n",
    "### Plano de fases $Q\\times P$\n",
    "\n",
    "Quando que $P$ cresce?\n",
    "$$\\dfrac{dP}{dt}> 0\\Leftrightarrow \\lambda_p P-bPQ>0 \\Leftrightarrow Q <\\frac{\\lambda_p}{b}$$\n",
    "Quando que $Q$ cresce?\n",
    "$$\\dfrac{dQ}{dt}> 0\\Leftrightarrow gPQ-\\mu_qQ> \\Leftrightarrow P >\\frac{\\mu_q}{g}$$"
   ]
  },
  {
   "cell_type": "code",
   "execution_count": null,
   "metadata": {},
   "outputs": [],
   "source": [
    "# implementar plano de fase"
   ]
  }
 ],
 "metadata": {
  "language_info": {
   "name": "python"
  },
  "orig_nbformat": 4
 },
 "nbformat": 4,
 "nbformat_minor": 2
}
